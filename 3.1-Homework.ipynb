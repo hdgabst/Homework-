{
 "cells": [
  {
   "attachments": {},
   "cell_type": "markdown",
   "metadata": {},
   "source": [
    "##  1. __What is an algorithm__?\n",
    "* ### An algorithm is a series of steps to solve a problem at hand. \n",
    "\n",
    "## 2. __Why is Python considered to be a high-level language?__\n",
    "* ### Python is considered a high-level langugage due to the following: \n",
    "    * ### they take less time to write\n",
    "    * ### they are shorter and easier to read\n",
    "    * ### and they are more likely to be correct/error freee when we run them\n",
    "\n",
    "## 3. __Is Python a Natural or a Formal language?__\n",
    "* ### Python is a formal language. \n",
    "\n",
    "## 4. __Variable names may not start with certain characters - name two.__\n",
    "* ### Variable names may not start with a number, or an underscore. \n",
    "\n",
    "## 5. __What is a Semantic error?__\n",
    "* ### Semantic errors are code that is grammatically correct but doesn't make sense; it does not produce the expected results. \n",
    "\n",
    "## 6. __What is the #1 rule of coding / debugging?__\n",
    "* ### The #1 rule of coding / debugging is complexity is the enemy of efficiency!\n",
    "\n",
    "## 7. __List 5 Python reserved words.__\n",
    "* ###\n",
    "    * ### None\n",
    "    * ### elif\n",
    "    * ### and \n",
    "    * ### else\n",
    "    * ### for\n",
    "\n",
    "## 8. __add and name, a web link for any Python coding article, in your markdown cell:__\n",
    "### [Why Learn Python](https://codingnomads.co/why-learn-python)"
   ]
  }
 ],
 "metadata": {
  "kernelspec": {
   "display_name": "Python 3",
   "language": "python",
   "name": "python3"
  },
  "language_info": {
   "codemirror_mode": {
    "name": "ipython",
    "version": 3
   },
   "file_extension": ".py",
   "mimetype": "text/x-python",
   "name": "python",
   "nbconvert_exporter": "python",
   "pygments_lexer": "ipython3",
   "version": "3.11.1"
  },
  "orig_nbformat": 4,
  "vscode": {
   "interpreter": {
    "hash": "aee8b7b246df8f9039afb4144a1f6fd8d2ca17a180786b69acc140d282b71a49"
   }
  }
 },
 "nbformat": 4,
 "nbformat_minor": 2
}
