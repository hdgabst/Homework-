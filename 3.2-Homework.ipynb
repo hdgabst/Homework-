{
 "cells": [
  {
   "attachments": {},
   "cell_type": "markdown",
   "metadata": {},
   "source": [
    "## 1. __Create a list of at least 5 elements of mixed data types:__"
   ]
  },
  {
   "cell_type": "code",
   "execution_count": 35,
   "metadata": {},
   "outputs": [
    {
     "name": "stdout",
     "output_type": "stream",
     "text": [
      " Size of the list is:  5\n",
      " 2nd element replaced ... ['orange', 'toyota', 'python', [42, 39, 2], 5.5]\n",
      " 2nd List ... ['orange', 'toyota', 'python', [42, 39, 2], 5.5, 'appending']\n",
      " This is the next step:  ['orange', 'Hello', 'Bye', [42, 39, 2], 5.5, 'appending']\n",
      " newsimList -  ['bird', 'cat', 'dog', 'dragon', 'horse']\n",
      " 3rd List:  ['bird', 'cat', 'dog', 'dragon', 'horse']\n",
      " 4th List ...  ['bird', 'cat', 'dog', 'dragon', 'horse', 'bird', 'cat', 'dog', 'dragon', 'horse']\n"
     ]
    }
   ],
   "source": [
    "homeworklst = [\"orange\", \"honda\", \"python\", [42,39,2], 5.5]\n",
    "listLength = len(homeworklst)\n",
    "print(\" Size of the list is: \",listLength)\n",
    "\n",
    "homeworklst[1] = \"toyota\"\n",
    "print(\" 2nd element replaced ...\", homeworklst)\n",
    "\n",
    "homeworklst.append(\"appending\")\n",
    "print(\" 2nd List ...\", homeworklst)\n",
    "\n",
    "homeworklst[1:3] = [\"Hello\", \"Bye\"]\n",
    "print(\" This is the next step: \", homeworklst)\n",
    "\n",
    "simList = ['dog','cat','bird','horse','dragon']\n",
    "simList.sort()\n",
    "print(\" newsimList - \", simList)\n",
    "\n",
    "new_list = simList.copy()\n",
    "print(' 3rd List: ', new_list)\n",
    "\n",
    "list4 =simList + new_list\n",
    "print(\" 4th List ... \", list4)\n"
   ]
  },
  {
   "attachments": {},
   "cell_type": "markdown",
   "metadata": {},
   "source": [
    "## 2. __Create a tuple of about 5 elements:__"
   ]
  },
  {
   "cell_type": "code",
   "execution_count": 63,
   "metadata": {},
   "outputs": [
    {
     "name": "stdout",
     "output_type": "stream",
     "text": [
      " This is tuple 1:  ('General', 'ok', 'Hello', 'dog', 'Yes', 'Five')\n",
      " This is tuple 2  ('General', 'ok', 'Hello', 'dog', 'Yes', 'Five', 'General', 'ok', 'Hello', 'dog', 'Yes', 'Five', 'General', 'ok', 'Hello', 'dog', 'Yes', 'Five')\n",
      " The 12th element is:  General\n",
      " Sorted 2nd tuple:  ['Five', 'Five', 'Five', 'General', 'General', 'General', 'Hello', 'Hello', 'Hello', 'Yes', 'Yes', 'Yes', 'dog', 'dog', 'dog', 'ok', 'ok', 'ok']\n",
      " This is the 3rd tuple:  ('General', 'ok', 'Hello', 'dog')\n",
      "50\n",
      "('General', 'ok', 'Hello', 'dog', 'Yes', 'Five', 'General', 'ok', 'Hello', 'dog', 'Yes', 'Five', 'General', 'ok', 'Hello', 'dog', 'Yes', 'Five', 'General', 'ok', 'Hello', 'dog')\n"
     ]
    }
   ],
   "source": [
    "tup1 = 'General', \"ok\", 'Hello', \"dog\", 'Yes', 'Five'\n",
    "print(\" This is tuple 1: \", tup1)\n",
    "\n",
    "tup2 = tup1 * 3\n",
    "print(\" This is tuple 2 \", tup2)\n",
    "\n",
    "print(\" The 12th element is: \", tup2[12])\n",
    "\n",
    "print(\" Sorted 2nd tuple: \", sorted(tup2))\n",
    "\n",
    "tup3 = (tup2[0:4])\n",
    "print(\" This is the 3rd tuple: \", tup3)\n",
    "\n",
    "tup4 = 50\n",
    "print( tup4)\n",
    "\n",
    "tup5 = tup2 + tup3\n",
    "print(tup5)"
   ]
  },
  {
   "attachments": {},
   "cell_type": "markdown",
   "metadata": {},
   "source": [
    "## 3. __Create a set of about 3 elements:__"
   ]
  },
  {
   "cell_type": "code",
   "execution_count": 85,
   "metadata": {},
   "outputs": [
    {
     "name": "stdout",
     "output_type": "stream",
     "text": [
      "This is Set1:  {'blue', 'cranberry', 'potato'}\n",
      "This is Set2:  {'things', 'strange', 'odd'}\n",
      "Added fruits to Set1:  {'potato', 'cherry', 'blue', 'apple', 'cranberry', 'banana'}\n",
      "Added car element to Set1:  {'potato', 'cherry', 'blue', 'honda', 'apple', 'cranberry', 'banana'}\n",
      "Union of Set1 and Set2:  {'potato', 'cherry', 'odd', 'things', 'blue', 'strange', 'honda', 'apple', 'cranberry', 'banana'}\n",
      "Popped an element from Set2:  {'strange', 'odd'}\n",
      "Cleared the 1st Set:  set()\n",
      "Discarded odd and cherry:  {'potato', 'things', 'blue', 'strange', 'honda', 'apple', 'cranberry', 'banana'}\n"
     ]
    }
   ],
   "source": [
    "Set1 = {\"potato\", \"cranberry\",\"blue\"}\n",
    "myfruitList = [\"apple\",\"banana\",\"cherry\"]\n",
    "carelement = [\"honda\"]\n",
    "Set2 = {\"odd\", \"strange\", \"things\"}\n",
    "\n",
    "print(\"This is Set1: \", Set1)\n",
    "print(\"This is Set2: \", Set2)\n",
    "\n",
    "Set1.update(Set1, myfruitList)\n",
    "print(\"Added fruits to Set1: \", Set1)\n",
    "\n",
    "Set1.update(Set1, myfruitList, carelement)\n",
    "print(\"Added car element to Set1: \", Set1)\n",
    "\n",
    "Set3 = Set1.union(Set2)\n",
    "print(\"Union of Set1 and Set2: \", Set3)\n",
    "\n",
    "Set2.pop()\n",
    "print(\"Popped an element from Set2: \", Set2)\n",
    "\n",
    "Set1.clear()\n",
    "print(\"Cleared the 1st Set: \", Set1)\n",
    "\n",
    "Set3.remove(\"cherry\")\n",
    "Set3.discard(\"odd\")\n",
    "print(\"Discarded odd and cherry: \", Set3)\n",
    "\n"
   ]
  },
  {
   "attachments": {},
   "cell_type": "markdown",
   "metadata": {},
   "source": [
    "## 4. __Create a dictionary with at least 5 values of different data types:__\n"
   ]
  },
  {
   "cell_type": "code",
   "execution_count": 109,
   "metadata": {},
   "outputs": [
    {
     "name": "stdout",
     "output_type": "stream",
     "text": [
      "This is a Dictionary:  {'brand': 'Suburu', 'model': 'sedan', 'year': 1969}\n",
      "Updating value with name:  {'model': 'sedan', 'year': 1969, 'Name': 'Hugo'}\n",
      "Updating value with color:  {'model': 'sedan', 'year': 1969, 'Name': 'Hugo', 'Color': 'Blue'}\n",
      "This is the list:  {'model': 'sedan', 'year': 1969, 'Name': 'Hugo', 'Color': 'Blue', 'myList': ['random', 'list']}\n",
      "Printing my keys:  dict_keys(['model', 'year', 'Name', 'Color', 'myList'])\n"
     ]
    },
    {
     "ename": "KeyError",
     "evalue": "'yellow'",
     "output_type": "error",
     "traceback": [
      "\u001b[0;31m---------------------------------------------------------------------------\u001b[0m",
      "\u001b[0;31mKeyError\u001b[0m                                  Traceback (most recent call last)",
      "Cell \u001b[0;32mIn[109], line 28\u001b[0m\n\u001b[1;32m     25\u001b[0m myKeys \u001b[39m=\u001b[39m Dictionary1\u001b[39m.\u001b[39mkeys()\n\u001b[1;32m     26\u001b[0m \u001b[39mprint\u001b[39m(\u001b[39m\"\u001b[39m\u001b[39mPrinting my keys: \u001b[39m\u001b[39m\"\u001b[39m, myKeys)\n\u001b[0;32m---> 28\u001b[0m element \u001b[39m=\u001b[39mDictionary2\u001b[39m.\u001b[39;49mpop(\u001b[39m'\u001b[39;49m\u001b[39myellow\u001b[39;49m\u001b[39m'\u001b[39;49m)\n\u001b[1;32m     29\u001b[0m \u001b[39mprint\u001b[39m(\u001b[39m\"\u001b[39m\u001b[39mValue is popped: \u001b[39m\u001b[39m\"\u001b[39m, Dictionary2)\n\u001b[1;32m     31\u001b[0m Dictionary2\u001b[39m.\u001b[39mclear()\n",
      "\u001b[0;31mKeyError\u001b[0m: 'yellow'"
     ]
    }
   ],
   "source": [
    "Dictionary1 = {\n",
    "    \"brand\": \"Suburu\",\n",
    "    \"model\": \"sedan\",\n",
    "    \"year\": 1969,\n",
    "}\n",
    "\n",
    "Dictionary2 = {\n",
    "    \"0\": \"yellow\",\n",
    "    \"1\": \"green\",\n",
    "    \"2\": \"blue\"\n",
    "}\n",
    "\n",
    "print(\"This is a Dictionary: \", Dictionary1)\n",
    "\n",
    "Dictionary1.update({\"Name\":\"Hugo\"}) \n",
    "Dictionary1.pop(\"brand\")\n",
    "print(\"Updating value with name: \", Dictionary1)\n",
    "\n",
    "Dictionary1.update({\"Color\":\"Blue\"})\n",
    "print(\"Updating value with color: \", Dictionary1)\n",
    "\n",
    "Dictionary1[\"myList\"] = [\"random\", \"list\"]\n",
    "print(\"This is the list: \", Dictionary1)\n",
    "\n",
    "myKeys = Dictionary1.keys()\n",
    "print(\"Printing my keys: \", myKeys)\n",
    "\n",
    "element = Dictionary2.pop('0')\n",
    "print(\"Value is popped: \", Dictionary2)\n",
    "\n",
    "Dictionary2.clear()\n",
    "print(Dictionary2)\n",
    "\n"
   ]
  }
 ],
 "metadata": {
  "kernelspec": {
   "display_name": "Python 3",
   "language": "python",
   "name": "python3"
  },
  "language_info": {
   "codemirror_mode": {
    "name": "ipython",
    "version": 3
   },
   "file_extension": ".py",
   "mimetype": "text/x-python",
   "name": "python",
   "nbconvert_exporter": "python",
   "pygments_lexer": "ipython3",
   "version": "3.11.1"
  },
  "orig_nbformat": 4,
  "vscode": {
   "interpreter": {
    "hash": "aee8b7b246df8f9039afb4144a1f6fd8d2ca17a180786b69acc140d282b71a49"
   }
  }
 },
 "nbformat": 4,
 "nbformat_minor": 2
}
