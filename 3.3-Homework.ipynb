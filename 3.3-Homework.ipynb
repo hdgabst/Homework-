{
 "cells": [
  {
   "attachments": {},
   "cell_type": "markdown",
   "metadata": {},
   "source": [
    "## __3.3 Python Homework__"
   ]
  },
  {
   "cell_type": "code",
   "execution_count": 15,
   "metadata": {},
   "outputs": [
    {
     "name": "stdout",
     "output_type": "stream",
     "text": [
      "You cannot legally rent a car\n"
     ]
    }
   ],
   "source": [
    "age = int(input('Enter age for renting a car'))\n",
    "if age >= 25: print(\"Renting a car is more affordable\")\n",
    "elif age >= 18 and age <25: print(\"Renting a car is very expensive\") \n",
    "elif age > 0 and age < 18: print(\"You cannot legally rent a car\")\n",
    "else:print(\"Renting a car is very expensive\")\n",
    "\n",
    "\n",
    "\n"
   ]
  },
  {
   "cell_type": "code",
   "execution_count": 21,
   "metadata": {},
   "outputs": [
    {
     "name": "stdout",
     "output_type": "stream",
     "text": [
      "43\n",
      "Vowels =  11\n"
     ]
    }
   ],
   "source": [
    "#  The for-loop can be used to iterate over characters of a string\n",
    "string1 = \"The quick brown fox jumps over the lazy dog\"\n",
    "count = 0\n",
    "i = 0\n",
    "\n",
    "for i in range(len(string1)):\n",
    "    if (\n",
    "        (string1[i] == \"a\")\n",
    "        or (string1[i] == \"e\")\n",
    "        or (string1[i] == \"i\")\n",
    "        or (string1[i] ==\"o\")\n",
    "        or (string1[i] == \"u\")\n",
    "\n",
    "    ):\n",
    "        count += 1\n",
    "\n",
    "print(len(string1))\n",
    "print(\"Vowels = \", count)"
   ]
  }
 ],
 "metadata": {
  "kernelspec": {
   "display_name": "Python 3",
   "language": "python",
   "name": "python3"
  },
  "language_info": {
   "codemirror_mode": {
    "name": "ipython",
    "version": 3
   },
   "file_extension": ".py",
   "mimetype": "text/x-python",
   "name": "python",
   "nbconvert_exporter": "python",
   "pygments_lexer": "ipython3",
   "version": "3.11.1"
  },
  "orig_nbformat": 4,
  "vscode": {
   "interpreter": {
    "hash": "aee8b7b246df8f9039afb4144a1f6fd8d2ca17a180786b69acc140d282b71a49"
   }
  }
 },
 "nbformat": 4,
 "nbformat_minor": 2
}
