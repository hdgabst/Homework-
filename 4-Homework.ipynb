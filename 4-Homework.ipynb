{
 "cells": [
  {
   "attachments": {},
   "cell_type": "markdown",
   "metadata": {},
   "source": [
    "## __1. What does one need to do to use a module?__\n",
    "### In order to use a module, one must import the respective module by using the import statement. \n",
    "## __2. Name a Module (not the DateTime Nodule) we looked at and write a line or 2 of code as an example using this module.__\n",
    "### -Math module\n",
    "### \"import math\n",
    "### print(\"factorial ... \", math.factorial(12))\n",
    "\n",
    "## __3. What is a benefit of using Exception handling?__\n",
    "### A benefit of exception landling is we can keep going past many errors, the except lets you handle the error.\n",
    "\n",
    "## __4. NumPy arrays are like what Python data type?__\n",
    "### NumPy arrays are like Python Lists. \n",
    "\n",
    "## __5. What is one of the main benefits of using NumPy arrays.__\n",
    "### One benefit of using NumPy arrays is that it is fast compared to lists. \n",
    "\n",
    "## __6. What is one of the main requirements about the 'dtype' of NumPy arrays?__\n",
    "### One requirement about the data type of NumPy arrays \n",
    "\n",
    "## __7. Of the 10 uses of NumPy, name 2.__\n",
    "### 1. Arithmetic operations\n",
    "### 1. Statistical operations\n",
    "\n",
    "## __8. Name one of the other libraries we'll use with NumPy?__\n",
    "### A library that we will be using with NumPy is Pandas. \n",
    "\n",
    "## __9. What is the shape of NumPy arrays?__\n",
    "### The shape of an array is the number of elements in each dimension. \n",
    "\n",
    "## __10. What is a Tensor?__\n",
    "### A tensor is an array with 3+ dimensions. \n",
    "\n",
    "## __11. Name a reason why it's better using NumPy for Data Analysis than using a Python List?__\n",
    "### It is better to use NumPy for Data Analysis than using a Python list because NumPy provides a powerful homogeneous N-dimensional array object. \n",
    "\n",
    "## __12. When creating an \"empty\" array, where do the elements come from?__\n",
    "### The empty array creates an array whose initial content is random and depends on the state of the memory. "
   ]
  },
  {
   "attachments": {},
   "cell_type": "markdown",
   "metadata": {},
   "source": [
    "# __Python Homework__"
   ]
  },
  {
   "cell_type": "code",
   "execution_count": 6,
   "metadata": {},
   "outputs": [
    {
     "name": "stdout",
     "output_type": "stream",
     "text": [
      "Right now, the Date and Time is:  2023-02-20 17:41:21.539523\n",
      "Current month:  February\n"
     ]
    }
   ],
   "source": [
    "# 1. Use the DateTime module to get Current Date and Time, and save it to a variable. \n",
    "# Then extract just the Full month name form that variable.\n",
    "\n",
    "import datetime as dt\n",
    "\n",
    "x =dt.datetime.now()\n",
    "print(\"Right now, the Date and Time is: \", x)\n",
    "print(\"Current month: \", x.strftime(\"%B\"))"
   ]
  },
  {
   "cell_type": "code",
   "execution_count": 19,
   "metadata": {},
   "outputs": [
    {
     "name": "stdout",
     "output_type": "stream",
     "text": [
      "Name is:  Hugo\n",
      "Day name is:  Sunday\n"
     ]
    }
   ],
   "source": [
    "# 2. Write a simple function that takes 2 parameters -- a first name and a day name \n",
    "def printInfo( fname, dayname): \n",
    "    print(\"Name is: \", fname)\n",
    "    print(\"Day name is: \", dayname)\n",
    "\n",
    "printInfo(dayname=\"Sunday\", fname=\"Hugo\")\n"
   ]
  },
  {
   "cell_type": "code",
   "execution_count": 25,
   "metadata": {},
   "outputs": [
    {
     "name": "stdout",
     "output_type": "stream",
     "text": [
      "2,3,2 is:  [[ 1  2  3  4  5  6]\n",
      " [ 7  8  9 10 11 12]]\n",
      "Reshaped 2,3,2: [[[ 1  2]\n",
      "  [ 3  4]\n",
      "  [ 5  6]]\n",
      "\n",
      " [[ 7  8]\n",
      "  [ 9 10]\n",
      "  [11 12]]]\n"
     ]
    }
   ],
   "source": [
    "# 3. Import NumPy, use one of the NumPy methods and create \n",
    "# an array with a shape (2,3,2). You can use -- .reshape()__\n",
    "import numpy as np \n",
    "\n",
    "array1 = np.array([[1,2,3,4,5,6], [7,8,9,10,11,12]])\n",
    "print(\"Array example is: \", array1)\n",
    "\n",
    "newshape2 = array1.reshape(2,3,2)\n",
    "print(\"Reshaped 2,3,2:\", newshape2)\n"
   ]
  },
  {
   "cell_type": "code",
   "execution_count": 11,
   "metadata": {},
   "outputs": [
    {
     "name": "stdout",
     "output_type": "stream",
     "text": [
      "Array with 6 linearly spaced values betweeen 0 & 20:  [ 0.  4.  8. 12. 16. 20.]\n"
     ]
    }
   ],
   "source": [
    "# 4. Using linspace()\n",
    "import numpy as np\n",
    "\n",
    "array2 = np.linspace(0, 20, num=6) \n",
    "print(\"Array with 6 linearly spaced values betweeen 0 & 20: \", array2)"
   ]
  },
  {
   "cell_type": "code",
   "execution_count": 17,
   "metadata": {},
   "outputs": [
    {
     "name": "stdout",
     "output_type": "stream",
     "text": [
      "Printing array2:  [ 0.  4.  8. 12. 16. 20.]\n",
      "Using deepcopy on array2:  [ 0.  4.  8. 12. 16. 20.]\n"
     ]
    }
   ],
   "source": [
    "# 5. Using Deep Copy \n",
    "\n",
    "import numpy as np\n",
    "import copy\n",
    "\n",
    "array2 = np.linspace(0,20, num=6)\n",
    "array3 = copy.deepcopy(array2) \n",
    "\n",
    "print(\"Printing array2: \", array2)\n",
    "print(\"Using deepcopy on array2: \", array3)"
   ]
  },
  {
   "attachments": {},
   "cell_type": "markdown",
   "metadata": {},
   "source": [
    "## __6. What are 2 reasons we use NumPy arrays over Python Lists?__\n",
    "### We use NumPy over Pythons lists because NumPy arrays are faster and more compact than Python Lists. "
   ]
  }
 ],
 "metadata": {
  "kernelspec": {
   "display_name": "Python 3",
   "language": "python",
   "name": "python3"
  },
  "language_info": {
   "codemirror_mode": {
    "name": "ipython",
    "version": 3
   },
   "file_extension": ".py",
   "mimetype": "text/x-python",
   "name": "python",
   "nbconvert_exporter": "python",
   "pygments_lexer": "ipython3",
   "version": "3.11.1"
  },
  "orig_nbformat": 4,
  "vscode": {
   "interpreter": {
    "hash": "aee8b7b246df8f9039afb4144a1f6fd8d2ca17a180786b69acc140d282b71a49"
   }
  }
 },
 "nbformat": 4,
 "nbformat_minor": 2
}
