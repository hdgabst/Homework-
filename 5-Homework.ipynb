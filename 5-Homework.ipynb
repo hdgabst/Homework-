{
 "cells": [
  {
   "attachments": {},
   "cell_type": "markdown",
   "metadata": {},
   "source": [
    "# __5-Python Homework__\n",
    "\n",
    "## __1.What does Pandas stand for?__\n",
    "### The word Pandas is derived from the word Panel Data. \n",
    "\n",
    "## __2. What are the 2 collections used in Pandas?__\n",
    "### The two collections used in Pandas is \"Series\" and \"Dataframes\". \n",
    "\n",
    "## __3. Name 4 things Pandas can do for us.__\n",
    "### Four things that Pandas can do for us for data analysis is load, manipulate, prepare, and analyze. \n",
    "\n",
    "## __4. To permanently sort a DataFrame, which keyword should one use with the df.sort() method?__\n",
    "### \n",
    "\n",
    "## __5. What is a CSV?__\n",
    "### CSV is a file that stands for comma seperated files. \n",
    "\n",
    "## __6. When cleaning data what values do we not like in our data?__\n",
    "### When cleaning data, the values that we do not like in our data is called Nulls. They are columns without data. We can drop Nulls by using the .dropna() method. \n"
   ]
  },
  {
   "cell_type": "markdown",
   "metadata": {},
   "source": []
  },
  {
   "cell_type": "code",
   "execution_count": 45,
   "metadata": {},
   "outputs": [
    {
     "name": "stdout",
     "output_type": "stream",
     "text": [
      "\n",
      "1. New array: \n",
      " [[25 16]\n",
      " [11  2]\n",
      " [13  4]\n",
      " [ 7 81]\n",
      " [ 5  6]\n",
      " [11 12]]\n",
      "\n",
      "2. Sorted Array: \n",
      " [[16 25]\n",
      " [ 2 11]\n",
      " [ 4 13]\n",
      " [ 7 81]\n",
      " [ 5  6]\n",
      " [11 12]]\n",
      "\n",
      "3. Reshaped Array: \n",
      " [[[16 25  2]\n",
      "  [11  4 13]]\n",
      "\n",
      " [[ 7 81  5]\n",
      "  [ 6 11 12]]]\n",
      "4. \n",
      "Unpacked 1,  [16 25  2]\n",
      "Unpacked 2,  [11  4 13]\n",
      "Unpacked 3,  [ 7 81  5]\n",
      "Unpacked 4,  [ 6 11 12]\n"
     ]
    }
   ],
   "source": [
    "import numpy as np \n",
    "\n",
    "array1=np.array([[25,16]])\n",
    "array2=np.array([[11,2],[13,4]])\n",
    "array3=np.array([[7,81],[5,6],[11,12]])\n",
    "\n",
    "newArray=np.concatenate((array1,array2,array3), axis=0)\n",
    "sortedArray=np.sort(newArray)\n",
    "reshapedArray=sortedArray.reshape(2,2,3)\n",
    "a,b=reshapedArray\n",
    "a0,a1=a\n",
    "b0,b1=b\n",
    "\n",
    "print(\"\\n1. New array: \\n\", newArray)\n",
    "print(\"\\n2. Sorted Array: \\n\", sortedArray)\n",
    "print(\"\\n3. Reshaped Array: \\n\", reshapedArray)\n",
    "print(\"4. \\nUnpacked 1, \", a0)\n",
    "print(\"Unpacked 2, \", a1)\n",
    "print(\"Unpacked 3, \", b0)\n",
    "print(\"Unpacked 4, \", b1)\n",
    "\n",
    "\n"
   ]
  },
  {
   "cell_type": "code",
   "execution_count": 75,
   "metadata": {},
   "outputs": [
    {
     "name": "stdout",
     "output_type": "stream",
     "text": [
      "\n",
      "5. \n",
      " [ 0  1  2  3  4  5  6  7 10 11 12 13 14 15 16 17 20 21 22 23 24 25 26 27]\n",
      "\n",
      "Sec1:\n",
      "  2\n",
      "\n",
      "Sec2:\n",
      "  [ 3  4  5  6  7 10 11 12 13 14 15 16 17 20 21 22 23 24 25 26 27]\n",
      "\n",
      "Sec3: \n",
      " [ 4  5  6  7 10 11 12 13 14 15 16]\n",
      "\n",
      "Sec4: \n",
      " [22 23 24 25 26 27]\n",
      "\n",
      "Sec5: \n",
      " [ 0  1  2  3  4  5  6  7 10 11 12 13 14 15]\n",
      "\n",
      "Sec6: \n",
      " [20 22 24 26]\n",
      "\n",
      "Sec7: \n",
      " [27 22 15 10  3]\n"
     ]
    }
   ],
   "source": [
    "import numpy as np\n",
    "\n",
    "one=np.array([10,11,12,13,14,15,16,17])\n",
    "two=np.array([20,21,22,23,24,25,26,27])\n",
    "three=np.array([0,1,2,3,4,5,6,7])\n",
    "\n",
    "combarray=np.concatenate((one,two,three))\n",
    "ComboArray=np.sort(combarray)\n",
    "a=ComboArray[2]\n",
    "b=ComboArray[3:27]\n",
    "c=ComboArray[4:15]\n",
    "d=ComboArray[-6:]\n",
    "e=ComboArray[-24:14]\n",
    "f=ComboArray[16:27:2]\n",
    "g=ComboArray[-1:-24:-5]\n",
    "\n",
    "print(\"\\n5. \\n\", ComboArray)\n",
    "print(\"\\nSec1:\\n \", a)\n",
    "print(\"\\nSec2:\\n \", b)\n",
    "print(\"\\nSec3: \\n\", c)\n",
    "print(\"\\nSec4: \\n\", d)\n",
    "print(\"\\nSec5: \\n\", e)\n",
    "print(\"\\nSec6: \\n\", f)\n",
    "print(\"\\nSec7: \\n\", g)\n",
    "\n"
   ]
  },
  {
   "cell_type": "code",
   "execution_count": 83,
   "metadata": {},
   "outputs": [
    {
     "name": "stdout",
     "output_type": "stream",
     "text": [
      "\n",
      "7. \n",
      " Adding: \n",
      " [[[ 17.    70.    10.8 ]\n",
      "  [ 27.    80.3   20.71]]\n",
      "\n",
      " [[ 37.    90.02  30.8 ]\n",
      "  [ 47.   101.    41.  ]]\n",
      "\n",
      " [[ 57.4   94.    50.7 ]\n",
      "  [ 32.    85.5   36.2 ]]]\n",
      "\n",
      "Dividing: \n",
      " [[[0.00000e+00 0.00000e+00 1.07000e+00]\n",
      "  [1.70000e+02 7.21000e+02 1.07107e+02]]\n",
      "\n",
      " [[3.40000e+02 1.40140e+03 2.15070e+02]\n",
      "  [5.10000e+02 2.17000e+03 3.24210e+02]]\n",
      "\n",
      " [[6.86800e+02 1.68000e+03 4.28000e+02]\n",
      "  [2.55000e+02 1.08500e+03 2.72850e+02]]]\n",
      "\n",
      "Multiplying: \n",
      " [[[0.         0.         0.00934579]\n",
      "  [0.58823529 0.14714286 0.93551402]]\n",
      "\n",
      " [[1.17647059 0.286      1.87850467]\n",
      "  [1.76470588 0.44285714 2.8317757 ]]\n",
      "\n",
      " [[2.37647059 0.34285714 3.73831776]\n",
      "  [0.88235294 0.22142857 2.38317757]]]\n",
      "\n",
      "Divisible by 3: \n",
      " [27.]\n"
     ]
    }
   ],
   "source": [
    "import numpy as np\n",
    "\n",
    "Array1=np.array([[[ 0.0,  0.0,  0.10], [10.0, 10.30, 10.01]],\n",
    "        [[20.0, 20.02, 20.10], [30.0, 31.0, 30.30]],\n",
    "        [[40.40, 24.0, 40.0], [15.0, 15.5, 25.5]]])\n",
    "Array2=np.array([[17.0, 70.0, 10.7]])\n",
    "\n",
    "Array3=np.add(Array1,Array2)\n",
    "Array4=np.multiply(Array1,Array2)\n",
    "Array5=np.divide(Array1,Array2)\n",
    "divisible_by_3=Array3[Array3 % 3 ==0]\n",
    "\n",
    "print(\"\\n7. \\n Adding: \\n\", Array3)\n",
    "print(\"\\nDividing: \\n\", Array4)\n",
    "print(\"\\nMultiplying: \\n\", Array5)\n",
    "print(\"\\nDivisible by 3: \\n\", divisible_by_3)\n"
   ]
  },
  {
   "cell_type": "code",
   "execution_count": 108,
   "metadata": {},
   "outputs": [
    {
     "name": "stdout",
     "output_type": "stream",
     "text": [
      "\n",
      "10. \n",
      "DataFrame1\n",
      "   Ingredients  Quantity   Unit\n",
      "0       Flour         4   cups\n",
      "1        Milk         1   cups\n",
      "2        Eggs         2  large\n",
      "3        Spam         1    can\n"
     ]
    }
   ],
   "source": [
    "import pandas as pd\n",
    "\n",
    "Ingredients=pd.Series([\"Flour\",\"Milk\", \"Eggs\",\"Spam\"], name='Ingredients')\n",
    "Quantity=pd.Series([4,1,2,1], name='Quantity')\n",
    "Unit=pd.Series([\"cups\",\"cups\",\"large\",\"can\"], name='Unit')\n",
    "\n",
    "df=pd.concat([Ingredients,Quantity,Unit], axis=1)\n",
    "print(\"\\n10. \\nDataFrame1\\n\",df)"
   ]
  },
  {
   "cell_type": "code",
   "execution_count": 123,
   "metadata": {},
   "outputs": [
    {
     "name": "stdout",
     "output_type": "stream",
     "text": [
      "\n",
      "print: \n",
      "       Name  Heights Qualifications  address  Age        Pets          sports  \\\n",
      "0      Jai      5.1            Msc    Delhi   21         Dog           Darts   \n",
      "1  janusha      6.2             MA     Doha   23       Bunny      Basketball   \n",
      "2   Gaurav      5.1            Msc  Chennai   24  Chinchilla  PaddleBoarding   \n",
      "3     Anuj      5.2            Msc   Dakhar   21      Parrot         Cricket   \n",
      "\n",
      "        deserts  \n",
      "0     ice cream  \n",
      "1  Cashew Fudge  \n",
      "2       waffels  \n",
      "3  Carrot Halwa  \n"
     ]
    },
    {
     "data": {
      "text/html": [
       "<div>\n",
       "<style scoped>\n",
       "    .dataframe tbody tr th:only-of-type {\n",
       "        vertical-align: middle;\n",
       "    }\n",
       "\n",
       "    .dataframe tbody tr th {\n",
       "        vertical-align: top;\n",
       "    }\n",
       "\n",
       "    .dataframe thead th {\n",
       "        text-align: right;\n",
       "    }\n",
       "</style>\n",
       "<table border=\"1\" class=\"dataframe\">\n",
       "  <thead>\n",
       "    <tr style=\"text-align: right;\">\n",
       "      <th></th>\n",
       "      <th>Name</th>\n",
       "      <th>Heights</th>\n",
       "      <th>Qualifications</th>\n",
       "      <th>address</th>\n",
       "      <th>Age</th>\n",
       "      <th>Pets</th>\n",
       "      <th>sports</th>\n",
       "      <th>deserts</th>\n",
       "    </tr>\n",
       "  </thead>\n",
       "  <tbody>\n",
       "    <tr>\n",
       "      <th>3</th>\n",
       "      <td>Anuj</td>\n",
       "      <td>5.2</td>\n",
       "      <td>Msc</td>\n",
       "      <td>Dakhar</td>\n",
       "      <td>21</td>\n",
       "      <td>Parrot</td>\n",
       "      <td>Cricket</td>\n",
       "      <td>Carrot Halwa</td>\n",
       "    </tr>\n",
       "    <tr>\n",
       "      <th>2</th>\n",
       "      <td>Gaurav</td>\n",
       "      <td>5.1</td>\n",
       "      <td>Msc</td>\n",
       "      <td>Chennai</td>\n",
       "      <td>24</td>\n",
       "      <td>Chinchilla</td>\n",
       "      <td>PaddleBoarding</td>\n",
       "      <td>waffels</td>\n",
       "    </tr>\n",
       "    <tr>\n",
       "      <th>0</th>\n",
       "      <td>Jai</td>\n",
       "      <td>5.1</td>\n",
       "      <td>Msc</td>\n",
       "      <td>Delhi</td>\n",
       "      <td>21</td>\n",
       "      <td>Dog</td>\n",
       "      <td>Darts</td>\n",
       "      <td>ice cream</td>\n",
       "    </tr>\n",
       "    <tr>\n",
       "      <th>1</th>\n",
       "      <td>janusha</td>\n",
       "      <td>6.2</td>\n",
       "      <td>MA</td>\n",
       "      <td>Doha</td>\n",
       "      <td>23</td>\n",
       "      <td>Bunny</td>\n",
       "      <td>Basketball</td>\n",
       "      <td>Cashew Fudge</td>\n",
       "    </tr>\n",
       "  </tbody>\n",
       "</table>\n",
       "</div>"
      ],
      "text/plain": [
       "      Name  Heights Qualifications  address  Age        Pets          sports  \\\n",
       "3     Anuj      5.2            Msc   Dakhar   21      Parrot         Cricket   \n",
       "2   Gaurav      5.1            Msc  Chennai   24  Chinchilla  PaddleBoarding   \n",
       "0      Jai      5.1            Msc    Delhi   21         Dog           Darts   \n",
       "1  janusha      6.2             MA     Doha   23       Bunny      Basketball   \n",
       "\n",
       "        deserts  \n",
       "3  Carrot Halwa  \n",
       "2       waffels  \n",
       "0     ice cream  \n",
       "1  Cashew Fudge  "
      ]
     },
     "execution_count": 123,
     "metadata": {},
     "output_type": "execute_result"
    }
   ],
   "source": [
    "import pandas as pd\n",
    "\n",
    "\n",
    "data = {'Name':['Jai', 'janusha', 'Gaurav', 'Anuj'],\n",
    "        'Heights':[5.1, 6.2, 5.1, 5.2],\n",
    "        'Qualifications':['Msc', 'MA', 'Msc', 'Msc'],\n",
    "        'address':['Delhi', 'Doha', 'Chennai', 'Dakhar'],\n",
    "        'Age':[21, 23, 24, 21],\n",
    "        'Pets':['Dog', 'Bunny', 'Chinchilla', 'Parrot'],\n",
    "        'sports':['Darts', 'Basketball', 'PaddleBoarding', 'Cricket'],\n",
    "}\n",
    "\n",
    "df=df.assign(deserts=['ice cream','Cashew Fudge','waffels','Carrot Halwa'])\n",
    "\n",
    "print(\"\\nprint: \\n\", df)\n",
    "\n",
    "df.sort_values(by=['Name','address'])"
   ]
  },
  {
   "cell_type": "code",
   "execution_count": 124,
   "metadata": {},
   "outputs": [],
   "source": [
    "import pandas as pd\n",
    "\n",
    "cows_and_goats=pd.DataFrame({'Cows':[12,20], 'Goats':[22,19]}, index=['Year 1', 'Year 2'])\n",
    "\n",
    "cows_and_goats.to_csv('cows_ands_goats.csv')"
   ]
  },
  {
   "cell_type": "code",
   "execution_count": 126,
   "metadata": {},
   "outputs": [],
   "source": [
    "import pandas as pd\n",
    "\n",
    "vegetables=pd.DataFrame({'Name':['lettuce','carrots','cellary'],'color':['green','orange','light green']}, index=['veg1','veg2','veg3'])\n",
    "vegetables.to_csv('vegetables.csv')\n"
   ]
  },
  {
   "cell_type": "code",
   "execution_count": 127,
   "metadata": {},
   "outputs": [
    {
     "name": "stdout",
     "output_type": "stream",
     "text": [
      "  Unnamed: 0     Name        color\n",
      "0       veg1  lettuce        green\n",
      "1       veg2  carrots       orange\n",
      "2       veg3  cellary  light green\n"
     ]
    }
   ],
   "source": [
    "import pandas as pd\n",
    "\n",
    "df=pd.read_csv(\"./vegetables.csv\")\n",
    "print(df.to_string())"
   ]
  },
  {
   "cell_type": "code",
   "execution_count": null,
   "metadata": {},
   "outputs": [],
   "source": []
  }
 ],
 "metadata": {
  "kernelspec": {
   "display_name": "Python 3",
   "language": "python",
   "name": "python3"
  },
  "language_info": {
   "codemirror_mode": {
    "name": "ipython",
    "version": 3
   },
   "file_extension": ".py",
   "mimetype": "text/x-python",
   "name": "python",
   "nbconvert_exporter": "python",
   "pygments_lexer": "ipython3",
   "version": "3.11.1"
  },
  "orig_nbformat": 4,
  "vscode": {
   "interpreter": {
    "hash": "aee8b7b246df8f9039afb4144a1f6fd8d2ca17a180786b69acc140d282b71a49"
   }
  }
 },
 "nbformat": 4,
 "nbformat_minor": 2
}
