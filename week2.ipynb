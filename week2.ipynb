{
 "cells": [
  {
   "cell_type": "code",
   "execution_count": 4,
   "metadata": {},
   "outputs": [
    {
     "name": "stdout",
     "output_type": "stream",
     "text": [
      "Hello World\n"
     ]
    }
   ],
   "source": [
    "print(\"Hello World\")"
   ]
  },
  {
   "attachments": {},
   "cell_type": "markdown",
   "metadata": {},
   "source": [
    "## __What kind of language is Python considered?__\n",
    "* ### Python is a highly versatile, general-purpose, object oriented programming language. \n",
    "\n",
    "## __What's a natural language?__\n",
    "* ### English.\n",
    "\n",
    "## __Is Python a Natural or a Formal language?__\n",
    "* ### Yes.\n",
    "\n",
    "## __What are Algorithms?__\n",
    "* ### An algorithm is a series of steps to solve a problem at hand. \n",
    "\n",
    "## __Why is Python considered to be a high-level language?__\n",
    "* ### Python is considered a high-level langugage due to the following: \n",
    "    * ### they take less time to write\n",
    "    * ### they are shorter and easier to read\n",
    "    * ### and they are more likely to be correct/error freee when we run them\n",
    "\n",
    "## __What is a Semantic error?__\n",
    "* ### Semantic errors are code that is grammatically correct but doesn't make sense; it does not produce the expected results. \n",
    "\n",
    "## __What is the #1 rule of coding / debugging?__\n",
    "* ### The #1 rule of coding / debugging is complexity is the enemy of efficiency!\n",
    "\n",
    "\n",
    "\n"
   ]
  }
 ],
 "metadata": {
  "kernelspec": {
   "display_name": "Python 3",
   "language": "python",
   "name": "python3"
  },
  "language_info": {
   "codemirror_mode": {
    "name": "ipython",
    "version": 3
   },
   "file_extension": ".py",
   "mimetype": "text/x-python",
   "name": "python",
   "nbconvert_exporter": "python",
   "pygments_lexer": "ipython3",
   "version": "3.11.1"
  },
  "orig_nbformat": 4,
  "vscode": {
   "interpreter": {
    "hash": "aee8b7b246df8f9039afb4144a1f6fd8d2ca17a180786b69acc140d282b71a49"
   }
  }
 },
 "nbformat": 4,
 "nbformat_minor": 2
}
